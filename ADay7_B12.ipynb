{
 "cells": [
  {
   "cell_type": "code",
   "execution_count": null,
   "metadata": {},
   "outputs": [],
   "source": [
    "# 1. UNDERSTANDING THE FILE FORMATS (.csv,.xlsx,.json)"
   ]
  },
  {
   "cell_type": "code",
   "execution_count": 2,
   "metadata": {},
   "outputs": [],
   "source": [
    "import numpy as np"
   ]
  },
  {
   "cell_type": "code",
   "execution_count": 5,
   "metadata": {},
   "outputs": [
    {
     "data": {
      "text/plain": [
       "array([60000., 58000., 56967., ..., 54647., 25000., 70000.])"
      ]
     },
     "execution_count": 5,
     "metadata": {},
     "output_type": "execute_result"
    }
   ],
   "source": [
    "Salaries = np.genfromtxt('Salary.csv',delimiter=',')  #Salary.csv file should be uploaded to Jupyter.\n",
    "\n",
    "Salaries"
   ]
  },
  {
   "cell_type": "code",
   "execution_count": 6,
   "metadata": {},
   "outputs": [
    {
     "data": {
      "text/plain": [
       "array([[   nan,    nan,    nan],\n",
       "       [1890. ,   26.1,   22. ],\n",
       "       [1900. ,   25.9,   21.9],\n",
       "       [1910. ,   25.1,   21.6],\n",
       "       [1920. ,   24.6,   21.2],\n",
       "       [1930. ,   24.3,   21.3],\n",
       "       [1940. ,   24.3,   21.5],\n",
       "       [1950. ,   22.8,   20.3],\n",
       "       [1960. ,   22.8,   20.3],\n",
       "       [1970. ,   23.2,   20.8],\n",
       "       [1980. ,   24.7,   22. ],\n",
       "       [1990. ,   26.1,   23.9],\n",
       "       [2000. ,   26.8,   25.1]])"
      ]
     },
     "execution_count": 6,
     "metadata": {},
     "output_type": "execute_result"
    }
   ],
   "source": [
    "Ages = np.genfromtxt('Ages.csv',delimiter=',')\n",
    "\n",
    "Ages"
   ]
  },
  {
   "cell_type": "code",
   "execution_count": null,
   "metadata": {},
   "outputs": [],
   "source": [
    "# 2. To find the Mean of the Salaries"
   ]
  },
  {
   "cell_type": "code",
   "execution_count": 9,
   "metadata": {},
   "outputs": [
    {
     "name": "stdout",
     "output_type": "stream",
     "text": [
      "Mean result of the Employee Salaries:\n",
      "55894.53879686138\n"
     ]
    }
   ],
   "source": [
    "print('Mean result of the Employee Salaries:')\n",
    "\n",
    "print(np.mean(Salaries))"
   ]
  },
  {
   "cell_type": "code",
   "execution_count": null,
   "metadata": {},
   "outputs": [],
   "source": [
    "# 3. To find the median of the Salaries"
   ]
  },
  {
   "cell_type": "code",
   "execution_count": 11,
   "metadata": {},
   "outputs": [
    {
     "name": "stdout",
     "output_type": "stream",
     "text": [
      "Median result of the Employee Salaries:\n",
      "48000.0\n"
     ]
    }
   ],
   "source": [
    "print('Median result of the Employee Salaries:')\n",
    "\n",
    "print(np.median(Salaries))"
   ]
  },
  {
   "cell_type": "code",
   "execution_count": null,
   "metadata": {},
   "outputs": [],
   "source": [
    "# 4. To find the Variance of the Salaries"
   ]
  },
  {
   "cell_type": "code",
   "execution_count": 13,
   "metadata": {},
   "outputs": [
    {
     "name": "stdout",
     "output_type": "stream",
     "text": [
      "Variance of the Salaries are listed below:\n",
      "3043770333.8474483\n"
     ]
    }
   ],
   "source": [
    "print('Variance of the Salaries are listed below:')\n",
    "\n",
    "print(np.var(Salaries))"
   ]
  },
  {
   "cell_type": "code",
   "execution_count": null,
   "metadata": {},
   "outputs": [],
   "source": []
  },
  {
   "cell_type": "code",
   "execution_count": null,
   "metadata": {},
   "outputs": [],
   "source": []
  }
 ],
 "metadata": {
  "kernelspec": {
   "display_name": "Python 3",
   "language": "python",
   "name": "python3"
  },
  "language_info": {
   "codemirror_mode": {
    "name": "ipython",
    "version": 3
   },
   "file_extension": ".py",
   "mimetype": "text/x-python",
   "name": "python",
   "nbconvert_exporter": "python",
   "pygments_lexer": "ipython3",
   "version": "3.7.4"
  }
 },
 "nbformat": 4,
 "nbformat_minor": 2
}
