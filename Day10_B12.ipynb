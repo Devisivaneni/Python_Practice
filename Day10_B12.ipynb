{
 "cells": [
  {
   "cell_type": "code",
   "execution_count": null,
   "metadata": {},
   "outputs": [],
   "source": [
    "#1 LOOPING THROUGH ALL KEY VALUE PAIRS"
   ]
  },
  {
   "cell_type": "code",
   "execution_count": 1,
   "metadata": {},
   "outputs": [
    {
     "name": "stdout",
     "output_type": "stream",
     "text": [
      "{'user_name': 'DeviSriii', 'first_name': 'Devi', 'last_name': 'Sriii'}\n"
     ]
    }
   ],
   "source": [
    "user = {\n",
    "    'user_name':'DeviSriii',\n",
    "    'first_name':'Devi',\n",
    "    'last_name':'Sriii'\n",
    "}\n",
    "\n",
    "print(user)"
   ]
  },
  {
   "cell_type": "code",
   "execution_count": null,
   "metadata": {},
   "outputs": [],
   "source": [
    "#2 using for loop to retrieve the keys & values from dictionary"
   ]
  },
  {
   "cell_type": "code",
   "execution_count": 3,
   "metadata": {},
   "outputs": [
    {
     "name": "stdout",
     "output_type": "stream",
     "text": [
      "Key:user_name\n",
      "value:DeviSriii\n",
      "Key:first_name\n",
      "value:Devi\n",
      "Key:last_name\n",
      "value:Sriii\n"
     ]
    }
   ],
   "source": [
    "for key,value in user.items():\n",
    "    print(f\"Key:{key}\")\n",
    "    print(f\"value:{value}\")"
   ]
  },
  {
   "cell_type": "code",
   "execution_count": null,
   "metadata": {},
   "outputs": [],
   "source": [
    "#3 Enhancement of the code using for loop"
   ]
  },
  {
   "cell_type": "code",
   "execution_count": 7,
   "metadata": {},
   "outputs": [
    {
     "name": "stdout",
     "output_type": "stream",
     "text": [
      "\n",
      " key:User_Name\n",
      "\n",
      " value:DeviSriii\n",
      "\n",
      " key:First_Name\n",
      "\n",
      " value:Devi\n",
      "\n",
      " key:Last_Name\n",
      "\n",
      " value:Sriii\n"
     ]
    }
   ],
   "source": [
    "for key,value in user.items():\n",
    "    print(f\"\\n key:{key.title()}\")\n",
    "    print(f\"\\n value:{value}\")"
   ]
  },
  {
   "cell_type": "code",
   "execution_count": null,
   "metadata": {},
   "outputs": [],
   "source": [
    "#4 using for loop to retrieve the keys & values separately from dictionary"
   ]
  },
  {
   "cell_type": "code",
   "execution_count": 8,
   "metadata": {},
   "outputs": [
    {
     "name": "stdout",
     "output_type": "stream",
     "text": [
      "{'user': 'devi', 'password': 'devisriii2k17'}\n"
     ]
    }
   ],
   "source": [
    "user1={\n",
    "    'user':'devi',\n",
    "    'password':'devisriii2k17'\n",
    "}\n",
    "\n",
    "print(user1)"
   ]
  },
  {
   "cell_type": "code",
   "execution_count": 11,
   "metadata": {},
   "outputs": [
    {
     "name": "stdout",
     "output_type": "stream",
     "text": [
      "User\n",
      "Password\n"
     ]
    }
   ],
   "source": [
    "for name in user1.keys():   # To retrieve keys using for loop\n",
    "    print(name.title())"
   ]
  },
  {
   "cell_type": "code",
   "execution_count": 15,
   "metadata": {},
   "outputs": [
    {
     "name": "stdout",
     "output_type": "stream",
     "text": [
      "Devi\n",
      "Devisriii2K17\n"
     ]
    }
   ],
   "source": [
    "for val in user1.values():     # To retrieve values using for loop\n",
    "    print(val.title())"
   ]
  },
  {
   "cell_type": "code",
   "execution_count": null,
   "metadata": {},
   "outputs": [],
   "source": [
    "#5 INTRODUCTION TO WHILE LOOP"
   ]
  },
  {
   "cell_type": "code",
   "execution_count": 16,
   "metadata": {},
   "outputs": [
    {
     "name": "stdout",
     "output_type": "stream",
     "text": [
      "1\n",
      "2\n",
      "3\n",
      "4\n",
      "5\n"
     ]
    }
   ],
   "source": [
    "i =1\n",
    "\n",
    "while(i<=5)   # While ---> it iterates until the condition gets satisfied\n",
    "    print(i)\n",
    "    i+=1\n"
   ]
  },
  {
   "cell_type": "code",
   "execution_count": 22,
   "metadata": {},
   "outputs": [
    {
     "name": "stdout",
     "output_type": "stream",
     "text": [
      "J value:1\n",
      "J value:2\n",
      "J value:3\n",
      "J value:4\n",
      "I value:0\n",
      "I value:1\n",
      "I value:2\n",
      "I value:3\n",
      "I value:4\n",
      "I value:5\n"
     ]
    }
   ],
   "source": [
    "i=0\n",
    "j=1\n",
    "\n",
    "while(i<=j):\n",
    "    while(j<=4):\n",
    "        print(f\"J value:{j}\")\n",
    "        j+=1\n",
    "    print(f\"I value:{i}\")\n",
    "    i+=1"
   ]
  },
  {
   "cell_type": "code",
   "execution_count": null,
   "metadata": {},
   "outputs": [],
   "source": [
    "#6 INTRODUCTION TO PYTHON USER DEFINED FUNCTIONS"
   ]
  },
  {
   "cell_type": "code",
   "execution_count": 24,
   "metadata": {},
   "outputs": [
    {
     "name": "stdout",
     "output_type": "stream",
     "text": [
      "Hello\n"
     ]
    }
   ],
   "source": [
    "def greet_user():    # defining a user defined function\n",
    "    \"\"\" Display a Simple greeting\"\"\"   #doc string---> Used to Comment inside a function\n",
    "    print(\"Hello\")\n",
    "    \n",
    "greet_user()   # Calling a function"
   ]
  },
  {
   "cell_type": "code",
   "execution_count": null,
   "metadata": {},
   "outputs": [],
   "source": [
    "#7 PASSING INFORMATION TO A FUNCTION"
   ]
  },
  {
   "cell_type": "code",
   "execution_count": 26,
   "metadata": {},
   "outputs": [
    {
     "name": "stdout",
     "output_type": "stream",
     "text": [
      "Thanks for visting again, Devisriii\n"
     ]
    }
   ],
   "source": [
    "def Thank_user(username):\n",
    "    \"\"\" Display a simple Thanks to the User\"\"\"\n",
    "    print(f\"Thanks for visting again, {username.title()}\")\n",
    "\n",
    "Thank_user(\"devisriii\")"
   ]
  },
  {
   "cell_type": "code",
   "execution_count": null,
   "metadata": {},
   "outputs": [],
   "source": []
  }
 ],
 "metadata": {
  "kernelspec": {
   "display_name": "Python 3",
   "language": "python",
   "name": "python3"
  },
  "language_info": {
   "codemirror_mode": {
    "name": "ipython",
    "version": 3
   },
   "file_extension": ".py",
   "mimetype": "text/x-python",
   "name": "python",
   "nbconvert_exporter": "python",
   "pygments_lexer": "ipython3",
   "version": "3.7.4"
  }
 },
 "nbformat": 4,
 "nbformat_minor": 2
}
