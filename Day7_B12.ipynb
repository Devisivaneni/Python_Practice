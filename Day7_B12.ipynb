{
 "cells": [
  {
   "cell_type": "code",
   "execution_count": null,
   "metadata": {},
   "outputs": [],
   "source": [
    "#1 ACCEPTING THE USER INPUT"
   ]
  },
  {
   "cell_type": "code",
   "execution_count": 3,
   "metadata": {},
   "outputs": [
    {
     "name": "stdout",
     "output_type": "stream",
     "text": [
      "Please enter your name:DeviSriii\n",
      "DeviSriii\n"
     ]
    }
   ],
   "source": [
    "name = input('Please enter your name:')\n",
    "\n",
    "print(name)"
   ]
  },
  {
   "cell_type": "code",
   "execution_count": 4,
   "metadata": {},
   "outputs": [
    {
     "name": "stdout",
     "output_type": "stream",
     "text": [
      "How are you?Im Good\n",
      "Im Good\n"
     ]
    }
   ],
   "source": [
    "message = input('How are you?')\n",
    "\n",
    "print(message)"
   ]
  },
  {
   "cell_type": "code",
   "execution_count": 5,
   "metadata": {},
   "outputs": [
    {
     "name": "stdout",
     "output_type": "stream",
     "text": [
      "which city you are living in?Bangalore\n",
      "Bangalore\n"
     ]
    }
   ],
   "source": [
    "Place = input('which city you are living in?')\n",
    "\n",
    "print(Place)"
   ]
  },
  {
   "cell_type": "code",
   "execution_count": null,
   "metadata": {},
   "outputs": [],
   "source": [
    "#2 ENHANCING THE CODE WHILE ACCEPTING THE USER INPUT"
   ]
  },
  {
   "cell_type": "code",
   "execution_count": 6,
   "metadata": {},
   "outputs": [
    {
     "name": "stdout",
     "output_type": "stream",
     "text": [
      "Please enter your name:Devi\n",
      "\n",
      "Welcome Back, Devi!\n"
     ]
    }
   ],
   "source": [
    "Name = input('Please enter your name:')   # Using Newline Delimiter to display the output in a new line \n",
    "\n",
    "print(f\"\\nWelcome Back, {Name}!\")"
   ]
  },
  {
   "cell_type": "code",
   "execution_count": null,
   "metadata": {},
   "outputs": [],
   "source": [
    "#3 INTRODUCTION TO IF CONDITION"
   ]
  },
  {
   "cell_type": "code",
   "execution_count": 7,
   "metadata": {},
   "outputs": [
    {
     "name": "stdout",
     "output_type": "stream",
     "text": [
      "how old are you?18\n"
     ]
    },
    {
     "ename": "TypeError",
     "evalue": "'>=' not supported between instances of 'str' and 'int'",
     "output_type": "error",
     "traceback": [
      "\u001b[1;31m---------------------------------------------------------------------------\u001b[0m",
      "\u001b[1;31mTypeError\u001b[0m                                 Traceback (most recent call last)",
      "\u001b[1;32m<ipython-input-7-2cc1d7462d40>\u001b[0m in \u001b[0;36m<module>\u001b[1;34m\u001b[0m\n\u001b[0;32m      1\u001b[0m \u001b[0mage\u001b[0m \u001b[1;33m=\u001b[0m \u001b[0minput\u001b[0m\u001b[1;33m(\u001b[0m\u001b[1;34m'how old are you?'\u001b[0m\u001b[1;33m)\u001b[0m\u001b[1;33m\u001b[0m\u001b[1;33m\u001b[0m\u001b[0m\n\u001b[0;32m      2\u001b[0m \u001b[1;33m\u001b[0m\u001b[0m\n\u001b[1;32m----> 3\u001b[1;33m \u001b[1;32mif\u001b[0m \u001b[0mage\u001b[0m \u001b[1;33m>=\u001b[0m\u001b[1;36m18\u001b[0m\u001b[1;33m:\u001b[0m\u001b[1;33m\u001b[0m\u001b[1;33m\u001b[0m\u001b[0m\n\u001b[0m\u001b[0;32m      4\u001b[0m     \u001b[0mprint\u001b[0m\u001b[1;33m(\u001b[0m\u001b[1;34m'Eligible for Vote'\u001b[0m\u001b[1;33m)\u001b[0m\u001b[1;33m\u001b[0m\u001b[1;33m\u001b[0m\u001b[0m\n\u001b[0;32m      5\u001b[0m \u001b[1;32melse\u001b[0m\u001b[1;33m:\u001b[0m\u001b[1;33m\u001b[0m\u001b[1;33m\u001b[0m\u001b[0m\n",
      "\u001b[1;31mTypeError\u001b[0m: '>=' not supported between instances of 'str' and 'int'"
     ]
    }
   ],
   "source": [
    "age = input('how old are you?')   # As the Input datatype value doesnt match with the comparison datatype value,it has been errored. \n",
    "                                  \n",
    "if age >=18:\n",
    "    print('Eligible for Vote')\n",
    "else:\n",
    "    print('Not eligible for Vote, Try Next Year')"
   ]
  },
  {
   "cell_type": "code",
   "execution_count": null,
   "metadata": {},
   "outputs": [],
   "source": [
    "#4 TYPE CASTING OF THE DATA USING IF CONDITION\n",
    "# CONVERTING ONE DATA TYPE TO OTHER DATA TYPE"
   ]
  },
  {
   "cell_type": "code",
   "execution_count": 1,
   "metadata": {},
   "outputs": [
    {
     "name": "stdout",
     "output_type": "stream",
     "text": [
      "how old are you?18\n",
      "Eligible for Vote\n"
     ]
    }
   ],
   "source": [
    "age = input('how old are you?')\n",
    "\n",
    "age = int(age)\n",
    "\n",
    "if age >=18:\n",
    "    print('Eligible for Vote')\n",
    "else:\n",
    "    print('not eligible for vote, try next year!')"
   ]
  },
  {
   "cell_type": "code",
   "execution_count": 2,
   "metadata": {},
   "outputs": [
    {
     "name": "stdout",
     "output_type": "stream",
     "text": [
      "how old are you?16\n",
      "not eligible for vote, try next year!\n"
     ]
    }
   ],
   "source": [
    "age = input('how old are you?')\n",
    "\n",
    "age = int(age)\n",
    "\n",
    "if age >=18:\n",
    "    print('Eligible for Vote')\n",
    "else:\n",
    "    print('not eligible for vote, try next year!')"
   ]
  },
  {
   "cell_type": "code",
   "execution_count": null,
   "metadata": {},
   "outputs": [],
   "source": [
    "#5 ENHANCING THE CODE, WHILE UISNG IF CONDITION   "
   ]
  },
  {
   "cell_type": "code",
   "execution_count": 8,
   "metadata": {},
   "outputs": [
    {
     "name": "stdout",
     "output_type": "stream",
     "text": [
      "How Old are you?25\n",
      "\n",
      "Eligible for Vote\n"
     ]
    }
   ],
   "source": [
    "age = input('How Old are you?')                  # Using Newline Demiliter to display the output in a new line\n",
    "\n",
    "age = int(age)\n",
    "\n",
    "if age >=18:\n",
    "    print('\\nEligible for Vote')\n",
    "else:\n",
    "    print('\\nNot Eligible for Vote, Try Next Year!')"
   ]
  },
  {
   "cell_type": "code",
   "execution_count": null,
   "metadata": {},
   "outputs": [],
   "source": []
  }
 ],
 "metadata": {
  "kernelspec": {
   "display_name": "Python 3",
   "language": "python",
   "name": "python3"
  },
  "language_info": {
   "codemirror_mode": {
    "name": "ipython",
    "version": 3
   },
   "file_extension": ".py",
   "mimetype": "text/x-python",
   "name": "python",
   "nbconvert_exporter": "python",
   "pygments_lexer": "ipython3",
   "version": "3.7.4"
  }
 },
 "nbformat": 4,
 "nbformat_minor": 2
}
