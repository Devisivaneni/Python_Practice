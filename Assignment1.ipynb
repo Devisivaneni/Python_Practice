{
 "cells": [
  {
   "cell_type": "code",
   "execution_count": 2,
   "metadata": {},
   "outputs": [],
   "source": [
    "from abc import ABC,abstractmethod "
   ]
  },
  {
   "cell_type": "code",
   "execution_count": 29,
   "metadata": {},
   "outputs": [],
   "source": [
    "class Restaurent:\n",
    "    \n",
    "    def __init__(self,restaurent_name,cuisine_type):\n",
    "        self.restaurent_name = restaurent_name\n",
    "        self.cuisine_type = cuisine_type\n",
    "\n",
    "    @abstractmethod\n",
    "    def describe_restaurent(self):\n",
    "        print(\"Restaurent type:\", self.restaurent_name)\n",
    "        print(\"Cuisine type:\", self.cuisine_type)\n",
    "        \n",
    "    @abstractmethod\n",
    "    def open_restaurent(self):\n",
    "        print(\"Restaurent is open\")"
   ]
  },
  {
   "cell_type": "code",
   "execution_count": 36,
   "metadata": {},
   "outputs": [
    {
     "name": "stdout",
     "output_type": "stream",
     "text": [
      "Restaurent type: Balajifoods\n",
      "Cuisine type: Southindian\n",
      "Restaurent is open\n"
     ]
    }
   ],
   "source": [
    "restaurent = Restaurent(\"Balajifoods\",\"Southindian\")\n",
    "\n",
    "restaurent.describe_restaurent()\n",
    "restaurent.open_restaurent()"
   ]
  },
  {
   "cell_type": "code",
   "execution_count": 38,
   "metadata": {},
   "outputs": [
    {
     "name": "stdout",
     "output_type": "stream",
     "text": [
      "IceCream Flavours: vanilla\n"
     ]
    }
   ],
   "source": [
    "class IceCreamStand(Restaurent):\n",
    "    def __init__(self,restaurent_name,cuisine_type,flavours):\n",
    "        super().__init__(restaurent_name,cuisine_type)\n",
    "        self.flavours = flavours\n",
    "        \n",
    "    @abstractmethod\n",
    "    def Display_flavours(self):  \n",
    "        print(\"IceCream Flavours:\", self.flavours)\n",
    "        \n",
    "icecream=IceCreamStand(\"Balajifoods\",\"northindian\",\"vanilla\")\n",
    "icecream.Display_flavours()"
   ]
  }
 ],
 "metadata": {
  "kernelspec": {
   "display_name": "Python 3",
   "language": "python",
   "name": "python3"
  },
  "language_info": {
   "codemirror_mode": {
    "name": "ipython",
    "version": 3
   },
   "file_extension": ".py",
   "mimetype": "text/x-python",
   "name": "python",
   "nbconvert_exporter": "python",
   "pygments_lexer": "ipython3",
   "version": "3.7.4"
  }
 },
 "nbformat": 4,
 "nbformat_minor": 2
}
