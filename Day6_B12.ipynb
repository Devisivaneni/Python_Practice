{
 "cells": [
  {
   "cell_type": "code",
   "execution_count": null,
   "metadata": {},
   "outputs": [],
   "source": [
    "# CONTINUATION OF FOR LOOP"
   ]
  },
  {
   "cell_type": "code",
   "execution_count": 9,
   "metadata": {},
   "outputs": [
    {
     "name": "stdout",
     "output_type": "stream",
     "text": [
      "['devi', 'sridhar', 'dinesh', 'pandu', 'sahithi', 'varshini']\n"
     ]
    }
   ],
   "source": [
    "student = ['devi', 'sridhar', 'dinesh', 'pandu', 'sahithi', 'varshini']\n",
    "\n",
    "print(student)"
   ]
  },
  {
   "cell_type": "code",
   "execution_count": 10,
   "metadata": {},
   "outputs": [
    {
     "name": "stdout",
     "output_type": "stream",
     "text": [
      "devi\n",
      "sridhar\n",
      "dinesh\n",
      "pandu\n",
      "sahithi\n",
      "varshini\n"
     ]
    }
   ],
   "source": [
    "for stu in student:\n",
    "    print(stu)"
   ]
  },
  {
   "cell_type": "code",
   "execution_count": null,
   "metadata": {},
   "outputs": [],
   "source": [
    "# ENHANCEMENT OF FOR LOOP:"
   ]
  },
  {
   "cell_type": "code",
   "execution_count": null,
   "metadata": {},
   "outputs": [],
   "source": [
    "# To automate the print statement for everyone"
   ]
  },
  {
   "cell_type": "code",
   "execution_count": 11,
   "metadata": {},
   "outputs": [
    {
     "name": "stdout",
     "output_type": "stream",
     "text": [
      "Devi, Good Work, Keept it up!!!\n",
      "Sridhar, Good Work, Keept it up!!!\n",
      "Dinesh, Good Work, Keept it up!!!\n",
      "Pandu, Good Work, Keept it up!!!\n",
      "Sahithi, Good Work, Keept it up!!!\n",
      "Varshini, Good Work, Keept it up!!!\n"
     ]
    }
   ],
   "source": [
    "for stu1 in student:\n",
    "    print(f\"{stu1.title()}, Good Work, Keept it up!!!\")\n",
    "    "
   ]
  },
  {
   "cell_type": "code",
   "execution_count": 12,
   "metadata": {},
   "outputs": [
    {
     "name": "stdout",
     "output_type": "stream",
     "text": [
      "Good Morning, Devi\n",
      "Good Morning, Sridhar\n",
      "Good Morning, Dinesh\n",
      "Good Morning, Pandu\n",
      "Good Morning, Sahithi\n",
      "Good Morning, Varshini\n"
     ]
    }
   ],
   "source": [
    "for stu2 in student:\n",
    "    print(f\"Good Morning, {stu2.title()}\")"
   ]
  },
  {
   "cell_type": "code",
   "execution_count": 13,
   "metadata": {},
   "outputs": [
    {
     "name": "stdout",
     "output_type": "stream",
     "text": [
      "Devi\n",
      "Sridhar\n",
      "Dinesh\n",
      "Pandu\n",
      "Sahithi\n",
      "Varshini\n"
     ]
    }
   ],
   "source": [
    "for stu3 in student:\n",
    "    print(stu3.title())"
   ]
  },
  {
   "cell_type": "code",
   "execution_count": null,
   "metadata": {},
   "outputs": [],
   "source": [
    "#Further Enhancemnet of the code"
   ]
  },
  {
   "cell_type": "code",
   "execution_count": 15,
   "metadata": {},
   "outputs": [
    {
     "name": "stdout",
     "output_type": "stream",
     "text": [
      "Good Morining, Devi\n",
      "Good Morining, Sridhar\n",
      "Good Morining, Dinesh\n",
      "Good Morining, Pandu\n",
      "Good Morining, Sahithi\n",
      "Good Morining, Varshini\n",
      "Have a wonderful day\n"
     ]
    }
   ],
   "source": [
    "for stu3 in student:\n",
    "    print(f\"Good Morining, {stu3.title()}\")\n",
    "    \n",
    "print('Have a wonderful day')"
   ]
  },
  {
   "cell_type": "code",
   "execution_count": 17,
   "metadata": {},
   "outputs": [
    {
     "name": "stdout",
     "output_type": "stream",
     "text": [
      "Good Morining, Devi\n",
      "Good Morining, Sridhar\n",
      "Good Morining, Dinesh\n",
      "Good Morining, Pandu\n",
      "Good Morining, Sahithi\n",
      "Good Morining, Varshini\n",
      "\n",
      "Have a great day\n"
     ]
    }
   ],
   "source": [
    "for stu4 in student:\n",
    "    print(f\"Good Morining, {stu4.title()}\")\n",
    "          \n",
    "print('\\nHave a great day')       # to print this statement in a new line using newline delimiter"
   ]
  },
  {
   "cell_type": "code",
   "execution_count": null,
   "metadata": {},
   "outputs": [],
   "source": [
    "# Creating Numerical List  "
   ]
  },
  {
   "cell_type": "code",
   "execution_count": 19,
   "metadata": {},
   "outputs": [
    {
     "name": "stdout",
     "output_type": "stream",
     "text": [
      "1\n",
      "2\n",
      "3\n",
      "4\n",
      "5\n",
      "6\n",
      "7\n",
      "8\n",
      "9\n"
     ]
    }
   ],
   "source": [
    "for value in range (1,10):   # all values in the range will be displayed except the last one, i.e 10...This last value is always exclusive\n",
    "    print(value)\n",
    "    "
   ]
  },
  {
   "cell_type": "code",
   "execution_count": 20,
   "metadata": {},
   "outputs": [
    {
     "name": "stdout",
     "output_type": "stream",
     "text": [
      "1\n",
      "2\n",
      "3\n",
      "4\n",
      "5\n",
      "6\n",
      "7\n",
      "8\n",
      "9\n",
      "10\n",
      "11\n",
      "12\n",
      "13\n",
      "14\n",
      "15\n",
      "16\n",
      "17\n",
      "18\n",
      "19\n",
      "20\n",
      "21\n",
      "22\n",
      "23\n",
      "24\n"
     ]
    }
   ],
   "source": [
    "for val in range(1,25):   # 25 ---> Last value in the Range & it is always exclusive\n",
    "    print(val)\n",
    "    "
   ]
  },
  {
   "cell_type": "code",
   "execution_count": null,
   "metadata": {},
   "outputs": [],
   "source": [
    "# use range to convert into list of numbers"
   ]
  },
  {
   "cell_type": "code",
   "execution_count": 24,
   "metadata": {},
   "outputs": [
    {
     "name": "stdout",
     "output_type": "stream",
     "text": [
      "[1, 2, 3, 4]\n"
     ]
    }
   ],
   "source": [
    "num1 = list(range(1,5))   # last value in the range is always exclusive i.e 5\n",
    "\n",
    "print(num1)"
   ]
  },
  {
   "cell_type": "code",
   "execution_count": 25,
   "metadata": {},
   "outputs": [
    {
     "name": "stdout",
     "output_type": "stream",
     "text": [
      "[1, 2, 3, 4, 5, 6, 7, 8, 9, 10, 11, 12, 13, 14, 15, 16, 17, 18, 19, 20, 21, 22, 23, 24, 25, 26, 27, 28, 29, 30]\n"
     ]
    }
   ],
   "source": [
    "num2 = list(range(1,31))\n",
    "\n",
    "print(num2)"
   ]
  },
  {
   "cell_type": "code",
   "execution_count": null,
   "metadata": {},
   "outputs": [],
   "source": [
    "# To print only even numbers from 1, 50 by using the range"
   ]
  },
  {
   "cell_type": "code",
   "execution_count": 27,
   "metadata": {},
   "outputs": [
    {
     "name": "stdout",
     "output_type": "stream",
     "text": [
      "[2, 4, 6, 8, 10, 12, 14, 16, 18, 20, 22, 24, 26, 28, 30, 32, 34, 36, 38, 40, 42, 44, 46, 48]\n"
     ]
    }
   ],
   "source": [
    "even_num = list(range(2,50,2))   #range will do the step count validation. To fetch the even numbers, need to start the range with 2\n",
    "\n",
    "print(even_num)"
   ]
  },
  {
   "cell_type": "code",
   "execution_count": 32,
   "metadata": {},
   "outputs": [
    {
     "name": "stdout",
     "output_type": "stream",
     "text": [
      "[1, 3, 5, 7, 9, 11, 13, 15, 17, 19, 21, 23, 25, 27, 29, 31, 33, 35, 37, 39, 41, 43, 45, 47, 49]\n"
     ]
    }
   ],
   "source": [
    "even_num = list(range(1,50,2))\n",
    "\n",
    "print(even_num)\n",
    "\n",
    "#question:\n",
    "#when i start the range from 1, 50 for displaying the even number, i could see all the odd numbers are displayed in the output. Could you please explain the logic behind the syntax range(1,50,2)? Just want to understand on what basis it is displaying the values in the output."
   ]
  },
  {
   "cell_type": "code",
   "execution_count": null,
   "metadata": {},
   "outputs": [],
   "source": []
  },
  {
   "cell_type": "code",
   "execution_count": null,
   "metadata": {},
   "outputs": [],
   "source": []
  },
  {
   "cell_type": "code",
   "execution_count": null,
   "metadata": {},
   "outputs": [],
   "source": []
  }
 ],
 "metadata": {
  "kernelspec": {
   "display_name": "Python 3",
   "language": "python",
   "name": "python3"
  },
  "language_info": {
   "codemirror_mode": {
    "name": "ipython",
    "version": 3
   },
   "file_extension": ".py",
   "mimetype": "text/x-python",
   "name": "python",
   "nbconvert_exporter": "python",
   "pygments_lexer": "ipython3",
   "version": "3.7.4"
  }
 },
 "nbformat": 4,
 "nbformat_minor": 2
}
