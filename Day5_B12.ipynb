{
 "cells": [
  {
   "cell_type": "code",
   "execution_count": null,
   "metadata": {},
   "outputs": [],
   "source": [
    "#LIST METHODS"
   ]
  },
  {
   "cell_type": "code",
   "execution_count": 1,
   "metadata": {},
   "outputs": [
    {
     "name": "stdout",
     "output_type": "stream",
     "text": [
      "['sahithi', 'varshini', 'pandu', 'Chandu', 'lakshmi', 'Sridhar', 'Devi']\n"
     ]
    }
   ],
   "source": [
    "students = ['sahithi', 'varshini', 'pandu', 'Chandu', 'lakshmi', 'Sridhar', 'Devi']\n",
    "print(students)"
   ]
  },
  {
   "cell_type": "code",
   "execution_count": 2,
   "metadata": {},
   "outputs": [
    {
     "data": {
      "text/plain": [
       "list"
      ]
     },
     "execution_count": 2,
     "metadata": {},
     "output_type": "execute_result"
    }
   ],
   "source": [
    "type(students)"
   ]
  },
  {
   "cell_type": "code",
   "execution_count": null,
   "metadata": {},
   "outputs": [],
   "source": [
    "# 1. print the list in reverse order"
   ]
  },
  {
   "cell_type": "code",
   "execution_count": 3,
   "metadata": {},
   "outputs": [
    {
     "name": "stdout",
     "output_type": "stream",
     "text": [
      "['Devi', 'Sridhar', 'lakshmi', 'Chandu', 'pandu', 'varshini', 'sahithi']\n"
     ]
    }
   ],
   "source": [
    "students.reverse()  # reverse will change the order of the list from last to first. It will changes the order permanently\n",
    "print(students)"
   ]
  },
  {
   "cell_type": "code",
   "execution_count": null,
   "metadata": {},
   "outputs": [],
   "source": [
    "# 2. To Display the no of values in List"
   ]
  },
  {
   "cell_type": "code",
   "execution_count": 5,
   "metadata": {},
   "outputs": [
    {
     "name": "stdout",
     "output_type": "stream",
     "text": [
      "['Devi', 'Sridhar', 'lakshmi', 'Chandu', 'pandu', 'varshini', 'sahithi']\n"
     ]
    }
   ],
   "source": [
    "print(students)"
   ]
  },
  {
   "cell_type": "code",
   "execution_count": 6,
   "metadata": {},
   "outputs": [
    {
     "data": {
      "text/plain": [
       "7"
      ]
     },
     "execution_count": 6,
     "metadata": {},
     "output_type": "execute_result"
    }
   ],
   "source": [
    "len(students)    #len will calculate the total size of the list i.e no .of elements in the list"
   ]
  },
  {
   "cell_type": "code",
   "execution_count": 8,
   "metadata": {},
   "outputs": [],
   "source": [
    "# INTRODUCTION TO LOOPS"
   ]
  },
  {
   "cell_type": "code",
   "execution_count": 9,
   "metadata": {},
   "outputs": [
    {
     "name": "stdout",
     "output_type": "stream",
     "text": [
      "['archana', 'rishitha', 'vivek', 'Anjali', 'tarun', 'pavan', 'Bhavya']\n"
     ]
    }
   ],
   "source": [
    "student1 = ['archana', 'rishitha', 'vivek', 'Anjali', 'tarun', 'pavan', 'Bhavya']\n",
    "print(student1)"
   ]
  },
  {
   "cell_type": "code",
   "execution_count": null,
   "metadata": {},
   "outputs": [],
   "source": [
    "#1 To split the elements separately from the list "
   ]
  },
  {
   "cell_type": "code",
   "execution_count": 12,
   "metadata": {},
   "outputs": [
    {
     "name": "stdout",
     "output_type": "stream",
     "text": [
      "archana\n",
      "rishitha\n",
      "vivek\n",
      "Anjali\n",
      "tarun\n",
      "pavan\n",
      "Bhavya\n"
     ]
    }
   ],
   "source": [
    "for stu1 in student1:     # using for loop, storing each of the list element in a temp variable and displaying it.  \n",
    "    print(stu1)"
   ]
  },
  {
   "cell_type": "code",
   "execution_count": 13,
   "metadata": {},
   "outputs": [
    {
     "name": "stdout",
     "output_type": "stream",
     "text": [
      "['archana', 'rishitha', 'vivek', 'Anjali', 'tarun', 'pavan', 'Bhavya']\n"
     ]
    }
   ],
   "source": [
    "print(student1)         "
   ]
  }
 ],
 "metadata": {
  "kernelspec": {
   "display_name": "Python 3",
   "language": "python",
   "name": "python3"
  },
  "language_info": {
   "codemirror_mode": {
    "name": "ipython",
    "version": 3
   },
   "file_extension": ".py",
   "mimetype": "text/x-python",
   "name": "python",
   "nbconvert_exporter": "python",
   "pygments_lexer": "ipython3",
   "version": "3.7.4"
  }
 },
 "nbformat": 4,
 "nbformat_minor": 2
}
